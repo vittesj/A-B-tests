{
 "cells": [
  {
   "cell_type": "markdown",
   "id": "8178ec2a",
   "metadata": {},
   "source": [
    "## Проанализируйте результаты эксперимента и напишите свои рекомендации менеджеру.\n",
    "## Mobile Games AB Testing with Cookie Cats"
   ]
  },
  {
   "cell_type": "code",
   "execution_count": 32,
   "id": "2db3f37f",
   "metadata": {},
   "outputs": [],
   "source": [
    "import numpy as np\n",
    "import pandas as pd\n",
    "\n",
    "import seaborn as sns \n",
    "import matplotlib.pyplot as plt\n",
    "import statsmodels.api as sm\n",
    "\n",
    "import statsmodels.stats.power as ssp\n",
    "import scipy.stats as stats\n",
    "\n",
    "import bootstrapped.bootstrap as bs\n",
    "import bootstrapped.compare_functions as bs_compare\n",
    "import bootstrapped.stats_functions as bs_stats"
   ]
  },
  {
   "cell_type": "code",
   "execution_count": 2,
   "id": "1c47829d",
   "metadata": {},
   "outputs": [],
   "source": [
    "df = pd.read_csv('результаты А_B - cookie_cats 2.csv')"
   ]
  },
  {
   "cell_type": "code",
   "execution_count": 3,
   "id": "6ee8ddf4",
   "metadata": {},
   "outputs": [
    {
     "data": {
      "text/html": [
       "<div>\n",
       "<style scoped>\n",
       "    .dataframe tbody tr th:only-of-type {\n",
       "        vertical-align: middle;\n",
       "    }\n",
       "\n",
       "    .dataframe tbody tr th {\n",
       "        vertical-align: top;\n",
       "    }\n",
       "\n",
       "    .dataframe thead th {\n",
       "        text-align: right;\n",
       "    }\n",
       "</style>\n",
       "<table border=\"1\" class=\"dataframe\">\n",
       "  <thead>\n",
       "    <tr style=\"text-align: right;\">\n",
       "      <th></th>\n",
       "      <th>userid</th>\n",
       "      <th>version</th>\n",
       "      <th>sum_gamerounds</th>\n",
       "      <th>retention_1</th>\n",
       "      <th>retention_7</th>\n",
       "    </tr>\n",
       "  </thead>\n",
       "  <tbody>\n",
       "    <tr>\n",
       "      <th>0</th>\n",
       "      <td>116</td>\n",
       "      <td>gate_30</td>\n",
       "      <td>3</td>\n",
       "      <td>0</td>\n",
       "      <td>0</td>\n",
       "    </tr>\n",
       "    <tr>\n",
       "      <th>1</th>\n",
       "      <td>337</td>\n",
       "      <td>gate_30</td>\n",
       "      <td>38</td>\n",
       "      <td>1</td>\n",
       "      <td>0</td>\n",
       "    </tr>\n",
       "    <tr>\n",
       "      <th>2</th>\n",
       "      <td>377</td>\n",
       "      <td>gate_40</td>\n",
       "      <td>165</td>\n",
       "      <td>1</td>\n",
       "      <td>0</td>\n",
       "    </tr>\n",
       "    <tr>\n",
       "      <th>3</th>\n",
       "      <td>483</td>\n",
       "      <td>gate_40</td>\n",
       "      <td>1</td>\n",
       "      <td>0</td>\n",
       "      <td>0</td>\n",
       "    </tr>\n",
       "    <tr>\n",
       "      <th>4</th>\n",
       "      <td>488</td>\n",
       "      <td>gate_40</td>\n",
       "      <td>179</td>\n",
       "      <td>1</td>\n",
       "      <td>1</td>\n",
       "    </tr>\n",
       "  </tbody>\n",
       "</table>\n",
       "</div>"
      ],
      "text/plain": [
       "   userid  version  sum_gamerounds  retention_1  retention_7\n",
       "0     116  gate_30               3            0            0\n",
       "1     337  gate_30              38            1            0\n",
       "2     377  gate_40             165            1            0\n",
       "3     483  gate_40               1            0            0\n",
       "4     488  gate_40             179            1            1"
      ]
     },
     "execution_count": 3,
     "metadata": {},
     "output_type": "execute_result"
    }
   ],
   "source": [
    "df.head()"
   ]
  },
  {
   "cell_type": "code",
   "execution_count": 4,
   "id": "cb55bcdc",
   "metadata": {},
   "outputs": [
    {
     "name": "stdout",
     "output_type": "stream",
     "text": [
      "<class 'pandas.core.frame.DataFrame'>\n",
      "RangeIndex: 90189 entries, 0 to 90188\n",
      "Data columns (total 5 columns):\n",
      " #   Column          Non-Null Count  Dtype \n",
      "---  ------          --------------  ----- \n",
      " 0   userid          90189 non-null  int64 \n",
      " 1   version         90189 non-null  object\n",
      " 2   sum_gamerounds  90189 non-null  int64 \n",
      " 3   retention_1     90189 non-null  int64 \n",
      " 4   retention_7     90189 non-null  int64 \n",
      "dtypes: int64(4), object(1)\n",
      "memory usage: 3.4+ MB\n"
     ]
    }
   ],
   "source": [
    "df.info()"
   ]
  },
  {
   "cell_type": "code",
   "execution_count": 5,
   "id": "c92f1c2b",
   "metadata": {},
   "outputs": [
    {
     "data": {
      "text/plain": [
       "userid            0\n",
       "version           0\n",
       "sum_gamerounds    0\n",
       "retention_1       0\n",
       "retention_7       0\n",
       "dtype: int64"
      ]
     },
     "execution_count": 5,
     "metadata": {},
     "output_type": "execute_result"
    }
   ],
   "source": [
    "df.isna().sum()"
   ]
  },
  {
   "cell_type": "code",
   "execution_count": 6,
   "id": "767eb7a1",
   "metadata": {},
   "outputs": [
    {
     "data": {
      "text/html": [
       "<div>\n",
       "<style scoped>\n",
       "    .dataframe tbody tr th:only-of-type {\n",
       "        vertical-align: middle;\n",
       "    }\n",
       "\n",
       "    .dataframe tbody tr th {\n",
       "        vertical-align: top;\n",
       "    }\n",
       "\n",
       "    .dataframe thead th {\n",
       "        text-align: right;\n",
       "    }\n",
       "</style>\n",
       "<table border=\"1\" class=\"dataframe\">\n",
       "  <thead>\n",
       "    <tr style=\"text-align: right;\">\n",
       "      <th></th>\n",
       "      <th>userid</th>\n",
       "      <th>sum_gamerounds</th>\n",
       "      <th>retention_1</th>\n",
       "      <th>retention_7</th>\n",
       "    </tr>\n",
       "  </thead>\n",
       "  <tbody>\n",
       "    <tr>\n",
       "      <th>count</th>\n",
       "      <td>9.018900e+04</td>\n",
       "      <td>90189.000000</td>\n",
       "      <td>90189.000000</td>\n",
       "      <td>90189.000000</td>\n",
       "    </tr>\n",
       "    <tr>\n",
       "      <th>mean</th>\n",
       "      <td>4.998412e+06</td>\n",
       "      <td>51.872457</td>\n",
       "      <td>0.445210</td>\n",
       "      <td>0.186065</td>\n",
       "    </tr>\n",
       "    <tr>\n",
       "      <th>std</th>\n",
       "      <td>2.883286e+06</td>\n",
       "      <td>195.050858</td>\n",
       "      <td>0.496992</td>\n",
       "      <td>0.389161</td>\n",
       "    </tr>\n",
       "    <tr>\n",
       "      <th>min</th>\n",
       "      <td>1.160000e+02</td>\n",
       "      <td>0.000000</td>\n",
       "      <td>0.000000</td>\n",
       "      <td>0.000000</td>\n",
       "    </tr>\n",
       "    <tr>\n",
       "      <th>25%</th>\n",
       "      <td>2.512230e+06</td>\n",
       "      <td>5.000000</td>\n",
       "      <td>0.000000</td>\n",
       "      <td>0.000000</td>\n",
       "    </tr>\n",
       "    <tr>\n",
       "      <th>50%</th>\n",
       "      <td>4.995815e+06</td>\n",
       "      <td>16.000000</td>\n",
       "      <td>0.000000</td>\n",
       "      <td>0.000000</td>\n",
       "    </tr>\n",
       "    <tr>\n",
       "      <th>75%</th>\n",
       "      <td>7.496452e+06</td>\n",
       "      <td>51.000000</td>\n",
       "      <td>1.000000</td>\n",
       "      <td>0.000000</td>\n",
       "    </tr>\n",
       "    <tr>\n",
       "      <th>max</th>\n",
       "      <td>9.999861e+06</td>\n",
       "      <td>49854.000000</td>\n",
       "      <td>1.000000</td>\n",
       "      <td>1.000000</td>\n",
       "    </tr>\n",
       "  </tbody>\n",
       "</table>\n",
       "</div>"
      ],
      "text/plain": [
       "             userid  sum_gamerounds   retention_1   retention_7\n",
       "count  9.018900e+04    90189.000000  90189.000000  90189.000000\n",
       "mean   4.998412e+06       51.872457      0.445210      0.186065\n",
       "std    2.883286e+06      195.050858      0.496992      0.389161\n",
       "min    1.160000e+02        0.000000      0.000000      0.000000\n",
       "25%    2.512230e+06        5.000000      0.000000      0.000000\n",
       "50%    4.995815e+06       16.000000      0.000000      0.000000\n",
       "75%    7.496452e+06       51.000000      1.000000      0.000000\n",
       "max    9.999861e+06    49854.000000      1.000000      1.000000"
      ]
     },
     "execution_count": 6,
     "metadata": {},
     "output_type": "execute_result"
    }
   ],
   "source": [
    "df.describe()"
   ]
  },
  {
   "cell_type": "markdown",
   "id": "8539f903",
   "metadata": {},
   "source": [
    "#### Найдем выбросы и удалим их из нашего датафрейма"
   ]
  },
  {
   "cell_type": "code",
   "execution_count": 7,
   "id": "971009b3",
   "metadata": {},
   "outputs": [
    {
     "data": {
      "text/plain": [
       "[]"
      ]
     },
     "execution_count": 7,
     "metadata": {},
     "output_type": "execute_result"
    },
    {
     "data": {
      "image/png": "[encoded data removed]",
      "text/plain": [
       "<Figure size 432x432 with 1 Axes>"
      ]
     },
     "metadata": {
      "needs_background": "light"
     },
     "output_type": "display_data"
    }
   ],
   "source": [
    "plt.figure(figsize=(6, 6))\n",
    "sns.histplot(df['sum_gamerounds'])\n",
    "plt.semilogy()"
   ]
  },
  {
   "cell_type": "code",
   "execution_count": 8,
   "id": "26280d27",
   "metadata": {},
   "outputs": [
    {
     "data": {
      "text/html": [
       "<div>\n",
       "<style scoped>\n",
       "    .dataframe tbody tr th:only-of-type {\n",
       "        vertical-align: middle;\n",
       "    }\n",
       "\n",
       "    .dataframe tbody tr th {\n",
       "        vertical-align: top;\n",
       "    }\n",
       "\n",
       "    .dataframe thead th {\n",
       "        text-align: right;\n",
       "    }\n",
       "</style>\n",
       "<table border=\"1\" class=\"dataframe\">\n",
       "  <thead>\n",
       "    <tr style=\"text-align: right;\">\n",
       "      <th></th>\n",
       "      <th>userid</th>\n",
       "      <th>version</th>\n",
       "      <th>sum_gamerounds</th>\n",
       "      <th>retention_1</th>\n",
       "      <th>retention_7</th>\n",
       "    </tr>\n",
       "  </thead>\n",
       "  <tbody>\n",
       "    <tr>\n",
       "      <th>655</th>\n",
       "      <td>69927</td>\n",
       "      <td>gate_30</td>\n",
       "      <td>1906</td>\n",
       "      <td>1</td>\n",
       "      <td>1</td>\n",
       "    </tr>\n",
       "    <tr>\n",
       "      <th>1097</th>\n",
       "      <td>121303</td>\n",
       "      <td>gate_30</td>\n",
       "      <td>1374</td>\n",
       "      <td>1</td>\n",
       "      <td>1</td>\n",
       "    </tr>\n",
       "    <tr>\n",
       "      <th>2257</th>\n",
       "      <td>248748</td>\n",
       "      <td>gate_30</td>\n",
       "      <td>1309</td>\n",
       "      <td>1</td>\n",
       "      <td>1</td>\n",
       "    </tr>\n",
       "    <tr>\n",
       "      <th>2586</th>\n",
       "      <td>284610</td>\n",
       "      <td>gate_30</td>\n",
       "      <td>1252</td>\n",
       "      <td>1</td>\n",
       "      <td>1</td>\n",
       "    </tr>\n",
       "    <tr>\n",
       "      <th>2692</th>\n",
       "      <td>294376</td>\n",
       "      <td>gate_40</td>\n",
       "      <td>1315</td>\n",
       "      <td>1</td>\n",
       "      <td>1</td>\n",
       "    </tr>\n",
       "    <tr>\n",
       "      <th>...</th>\n",
       "      <td>...</td>\n",
       "      <td>...</td>\n",
       "      <td>...</td>\n",
       "      <td>...</td>\n",
       "      <td>...</td>\n",
       "    </tr>\n",
       "    <tr>\n",
       "      <th>85964</th>\n",
       "      <td>9521620</td>\n",
       "      <td>gate_40</td>\n",
       "      <td>1252</td>\n",
       "      <td>1</td>\n",
       "      <td>1</td>\n",
       "    </tr>\n",
       "    <tr>\n",
       "      <th>86047</th>\n",
       "      <td>9530845</td>\n",
       "      <td>gate_40</td>\n",
       "      <td>1145</td>\n",
       "      <td>1</td>\n",
       "      <td>1</td>\n",
       "    </tr>\n",
       "    <tr>\n",
       "      <th>86904</th>\n",
       "      <td>9628337</td>\n",
       "      <td>gate_40</td>\n",
       "      <td>1082</td>\n",
       "      <td>1</td>\n",
       "      <td>1</td>\n",
       "    </tr>\n",
       "    <tr>\n",
       "      <th>87007</th>\n",
       "      <td>9640085</td>\n",
       "      <td>gate_30</td>\n",
       "      <td>2156</td>\n",
       "      <td>1</td>\n",
       "      <td>1</td>\n",
       "    </tr>\n",
       "    <tr>\n",
       "      <th>88328</th>\n",
       "      <td>9791599</td>\n",
       "      <td>gate_40</td>\n",
       "      <td>2063</td>\n",
       "      <td>1</td>\n",
       "      <td>1</td>\n",
       "    </tr>\n",
       "  </tbody>\n",
       "</table>\n",
       "<p>116 rows × 5 columns</p>\n",
       "</div>"
      ],
      "text/plain": [
       "        userid  version  sum_gamerounds  retention_1  retention_7\n",
       "655      69927  gate_30            1906            1            1\n",
       "1097    121303  gate_30            1374            1            1\n",
       "2257    248748  gate_30            1309            1            1\n",
       "2586    284610  gate_30            1252            1            1\n",
       "2692    294376  gate_40            1315            1            1\n",
       "...        ...      ...             ...          ...          ...\n",
       "85964  9521620  gate_40            1252            1            1\n",
       "86047  9530845  gate_40            1145            1            1\n",
       "86904  9628337  gate_40            1082            1            1\n",
       "87007  9640085  gate_30            2156            1            1\n",
       "88328  9791599  gate_40            2063            1            1\n",
       "\n",
       "[116 rows x 5 columns]"
      ]
     },
     "execution_count": 8,
     "metadata": {},
     "output_type": "execute_result"
    }
   ],
   "source": [
    "df.query('sum_gamerounds > 1000')"
   ]
  },
  {
   "cell_type": "code",
   "execution_count": 9,
   "id": "b8b18214",
   "metadata": {},
   "outputs": [
    {
     "data": {
      "text/html": [
       "<div>\n",
       "<style scoped>\n",
       "    .dataframe tbody tr th:only-of-type {\n",
       "        vertical-align: middle;\n",
       "    }\n",
       "\n",
       "    .dataframe tbody tr th {\n",
       "        vertical-align: top;\n",
       "    }\n",
       "\n",
       "    .dataframe thead th {\n",
       "        text-align: right;\n",
       "    }\n",
       "</style>\n",
       "<table border=\"1\" class=\"dataframe\">\n",
       "  <thead>\n",
       "    <tr style=\"text-align: right;\">\n",
       "      <th></th>\n",
       "      <th>userid</th>\n",
       "      <th>version</th>\n",
       "      <th>sum_gamerounds</th>\n",
       "      <th>retention_1</th>\n",
       "      <th>retention_7</th>\n",
       "    </tr>\n",
       "  </thead>\n",
       "  <tbody>\n",
       "    <tr>\n",
       "      <th>0</th>\n",
       "      <td>116</td>\n",
       "      <td>gate_30</td>\n",
       "      <td>3</td>\n",
       "      <td>0</td>\n",
       "      <td>0</td>\n",
       "    </tr>\n",
       "    <tr>\n",
       "      <th>1</th>\n",
       "      <td>337</td>\n",
       "      <td>gate_30</td>\n",
       "      <td>38</td>\n",
       "      <td>1</td>\n",
       "      <td>0</td>\n",
       "    </tr>\n",
       "    <tr>\n",
       "      <th>2</th>\n",
       "      <td>377</td>\n",
       "      <td>gate_40</td>\n",
       "      <td>165</td>\n",
       "      <td>1</td>\n",
       "      <td>0</td>\n",
       "    </tr>\n",
       "    <tr>\n",
       "      <th>3</th>\n",
       "      <td>483</td>\n",
       "      <td>gate_40</td>\n",
       "      <td>1</td>\n",
       "      <td>0</td>\n",
       "      <td>0</td>\n",
       "    </tr>\n",
       "    <tr>\n",
       "      <th>4</th>\n",
       "      <td>488</td>\n",
       "      <td>gate_40</td>\n",
       "      <td>179</td>\n",
       "      <td>1</td>\n",
       "      <td>1</td>\n",
       "    </tr>\n",
       "    <tr>\n",
       "      <th>...</th>\n",
       "      <td>...</td>\n",
       "      <td>...</td>\n",
       "      <td>...</td>\n",
       "      <td>...</td>\n",
       "      <td>...</td>\n",
       "    </tr>\n",
       "    <tr>\n",
       "      <th>90184</th>\n",
       "      <td>9999441</td>\n",
       "      <td>gate_40</td>\n",
       "      <td>97</td>\n",
       "      <td>1</td>\n",
       "      <td>0</td>\n",
       "    </tr>\n",
       "    <tr>\n",
       "      <th>90185</th>\n",
       "      <td>9999479</td>\n",
       "      <td>gate_40</td>\n",
       "      <td>30</td>\n",
       "      <td>0</td>\n",
       "      <td>0</td>\n",
       "    </tr>\n",
       "    <tr>\n",
       "      <th>90186</th>\n",
       "      <td>9999710</td>\n",
       "      <td>gate_30</td>\n",
       "      <td>28</td>\n",
       "      <td>1</td>\n",
       "      <td>0</td>\n",
       "    </tr>\n",
       "    <tr>\n",
       "      <th>90187</th>\n",
       "      <td>9999768</td>\n",
       "      <td>gate_40</td>\n",
       "      <td>51</td>\n",
       "      <td>1</td>\n",
       "      <td>0</td>\n",
       "    </tr>\n",
       "    <tr>\n",
       "      <th>90188</th>\n",
       "      <td>9999861</td>\n",
       "      <td>gate_40</td>\n",
       "      <td>16</td>\n",
       "      <td>0</td>\n",
       "      <td>0</td>\n",
       "    </tr>\n",
       "  </tbody>\n",
       "</table>\n",
       "<p>90071 rows × 5 columns</p>\n",
       "</div>"
      ],
      "text/plain": [
       "        userid  version  sum_gamerounds  retention_1  retention_7\n",
       "0          116  gate_30               3            0            0\n",
       "1          337  gate_30              38            1            0\n",
       "2          377  gate_40             165            1            0\n",
       "3          483  gate_40               1            0            0\n",
       "4          488  gate_40             179            1            1\n",
       "...        ...      ...             ...          ...          ...\n",
       "90184  9999441  gate_40              97            1            0\n",
       "90185  9999479  gate_40              30            0            0\n",
       "90186  9999710  gate_30              28            1            0\n",
       "90187  9999768  gate_40              51            1            0\n",
       "90188  9999861  gate_40              16            0            0\n",
       "\n",
       "[90071 rows x 5 columns]"
      ]
     },
     "execution_count": 9,
     "metadata": {},
     "output_type": "execute_result"
    }
   ],
   "source": [
    "df = df.query('sum_gamerounds < 1000')\n",
    "df"
   ]
  },
  {
   "cell_type": "code",
   "execution_count": 10,
   "id": "8773a2cd",
   "metadata": {},
   "outputs": [
    {
     "data": {
      "text/plain": [
       "(array([7.7673e+04, 7.2440e+03, 2.5800e+03, 1.2220e+03, 6.0300e+02,\n",
       "        3.4900e+02, 1.8400e+02, 1.1300e+02, 7.0000e+01, 3.3000e+01]),\n",
       " array([  0. ,  99.7, 199.4, 299.1, 398.8, 498.5, 598.2, 697.9, 797.6,\n",
       "        897.3, 997. ]),\n",
       " <BarContainer object of 10 artists>)"
      ]
     },
     "execution_count": 10,
     "metadata": {},
     "output_type": "execute_result"
    },
    {
     "data": {
      "image/png": "[encoded data removed]",
      "text/plain": [
       "<Figure size 432x432 with 1 Axes>"
      ]
     },
     "metadata": {
      "needs_background": "light"
     },
     "output_type": "display_data"
    }
   ],
   "source": [
    "plt.figure(figsize=(6, 6))\n",
    "plt.hist(df['sum_gamerounds'])"
   ]
  },
  {
   "cell_type": "code",
   "execution_count": 11,
   "id": "c7d06874",
   "metadata": {},
   "outputs": [
    {
     "data": {
      "text/plain": [
       "<AxesSubplot:xlabel='sum_gamerounds'>"
      ]
     },
     "execution_count": 11,
     "metadata": {},
     "output_type": "execute_result"
    },
    {
     "data": {
      "image/png": "[encoded data removed]",
      "text/plain": [
       "<Figure size 432x288 with 1 Axes>"
      ]
     },
     "metadata": {
      "needs_background": "light"
     },
     "output_type": "display_data"
    }
   ],
   "source": [
    "sns.boxplot(x=df.sum_gamerounds)"
   ]
  },
  {
   "cell_type": "markdown",
   "id": "ae301bec",
   "metadata": {},
   "source": [
    "так вроде лучше, но я не уверен, стоит ли удалять все что за усами? примерно за 200, или просто этот график не совсем подходящий для лучшего отображения ситуации? посоветуйте пожалуйста в коментарии к проверке дз"
   ]
  },
  {
   "cell_type": "code",
   "execution_count": 12,
   "id": "201bb83f",
   "metadata": {},
   "outputs": [
    {
     "data": {
      "text/plain": [
       "True"
      ]
     },
     "execution_count": 12,
     "metadata": {},
     "output_type": "execute_result"
    }
   ],
   "source": [
    "len(df[df['version'] == 'gate_30']) + len(df[df['version'] == 'gate_40']) == df.shape[0]"
   ]
  },
  {
   "cell_type": "code",
   "execution_count": 13,
   "id": "28ed3024",
   "metadata": {},
   "outputs": [
    {
     "data": {
      "text/plain": [
       "array(['gate_30', 'gate_40'], dtype=object)"
      ]
     },
     "execution_count": 13,
     "metadata": {},
     "output_type": "execute_result"
    }
   ],
   "source": [
    "df.version.unique()"
   ]
  },
  {
   "cell_type": "code",
   "execution_count": 14,
   "id": "1687c4c7",
   "metadata": {},
   "outputs": [
    {
     "data": {
      "text/plain": [
       "array([0, 1], dtype=int64)"
      ]
     },
     "execution_count": 14,
     "metadata": {},
     "output_type": "execute_result"
    }
   ],
   "source": [
    "df.retention_1.unique()"
   ]
  },
  {
   "cell_type": "code",
   "execution_count": 15,
   "id": "63c93956",
   "metadata": {},
   "outputs": [
    {
     "data": {
      "text/plain": [
       "array([0, 1], dtype=int64)"
      ]
     },
     "execution_count": 15,
     "metadata": {},
     "output_type": "execute_result"
    }
   ],
   "source": [
    "df.retention_7.unique()"
   ]
  },
  {
   "cell_type": "markdown",
   "id": "1a1ba9fd",
   "metadata": {},
   "source": [
    "Выбросов больше нет"
   ]
  },
  {
   "cell_type": "markdown",
   "id": "b28b4970",
   "metadata": {},
   "source": [
    "#### приступим к анализу данных"
   ]
  },
  {
   "cell_type": "code",
   "execution_count": 16,
   "id": "b9ad143b",
   "metadata": {},
   "outputs": [
    {
     "data": {
      "text/plain": [
       "44647"
      ]
     },
     "execution_count": 16,
     "metadata": {},
     "output_type": "execute_result"
    }
   ],
   "source": [
    "len(df[df['version'] == 'gate_30'])"
   ]
  },
  {
   "cell_type": "code",
   "execution_count": 17,
   "id": "2eaa8aa6",
   "metadata": {},
   "outputs": [
    {
     "data": {
      "text/plain": [
       "45424"
      ]
     },
     "execution_count": 17,
     "metadata": {},
     "output_type": "execute_result"
    }
   ],
   "source": [
    "len(df[df['version'] == 'gate_40'])"
   ]
  },
  {
   "cell_type": "markdown",
   "id": "2928ad00",
   "metadata": {},
   "source": [
    "выборки примерно одинаковые"
   ]
  },
  {
   "cell_type": "code",
   "execution_count": 18,
   "id": "59a53bc0",
   "metadata": {},
   "outputs": [
    {
     "data": {
      "image/png": "[encoded data removed]",
      "text/plain": [
       "<Figure size 432x288 with 1 Axes>"
      ]
     },
     "metadata": {
      "needs_background": "light"
     },
     "output_type": "display_data"
    }
   ],
   "source": [
    "fig = sm.qqplot(df[df.version == 'gate_30'].sum_gamerounds, color='green')\n",
    "plt.title('Normal Q-Q Plot')\n",
    "plt.show;"
   ]
  },
  {
   "cell_type": "code",
   "execution_count": 19,
   "id": "a8941b76",
   "metadata": {},
   "outputs": [
    {
     "data": {
      "image/png": "[encoded data removed]",
      "text/plain": [
       "<Figure size 432x288 with 1 Axes>"
      ]
     },
     "metadata": {
      "needs_background": "light"
     },
     "output_type": "display_data"
    }
   ],
   "source": [
    "fig = sm.qqplot(df[df.version == 'gate_40'].sum_gamerounds, color='green')\n",
    "plt.title('Normal Q-Q Plot')\n",
    "plt.show;"
   ]
  },
  {
   "cell_type": "markdown",
   "id": "1fb76597",
   "metadata": {},
   "source": [
    "уже по графикам видно что данные распределены не нормально, метод Шапиро-Уилко мы использовать не можем так как данных в каждой из выборок больше 5000, используем метод Колмагорова"
   ]
  },
  {
   "cell_type": "code",
   "execution_count": 20,
   "id": "718dcd39",
   "metadata": {},
   "outputs": [
    {
     "name": "stdout",
     "output_type": "stream",
     "text": [
      "KstestResult(statistic=0.8722932080298709, pvalue=0.0)\n",
      "KstestResult(statistic=0.8705661766111726, pvalue=0.0)\n"
     ]
    }
   ],
   "source": [
    "print(stats.kstest(df[df.version == 'gate_30'].sum_gamerounds, 'norm'))\n",
    "print(stats.kstest(df[df.version == 'gate_40'].sum_gamerounds, 'norm'))"
   ]
  },
  {
   "cell_type": "markdown",
   "id": "3b6f547d",
   "metadata": {},
   "source": [
    "убедились в том что наши данные не нормального распределения"
   ]
  },
  {
   "cell_type": "code",
   "execution_count": 21,
   "id": "02d23a5a",
   "metadata": {},
   "outputs": [
    {
     "data": {
      "text/plain": [
       "Ttest_indResult(statistic=0.558396552424921, pvalue=0.5765750151466942)"
      ]
     },
     "execution_count": 21,
     "metadata": {},
     "output_type": "execute_result"
    }
   ],
   "source": [
    "stats.ttest_ind(df[df.version == 'gate_30'].sum_gamerounds,\n",
    "          df[df.version == 'gate_40'].sum_gamerounds, equal_var = False)"
   ]
  },
  {
   "cell_type": "markdown",
   "id": "f8708077",
   "metadata": {},
   "source": [
    "В данном случае тест Стьюдента не объективен"
   ]
  },
  {
   "cell_type": "code",
   "execution_count": 22,
   "id": "d6e7a5ac",
   "metadata": {},
   "outputs": [
    {
     "data": {
      "text/plain": [
       "MannwhitneyuResult(statistic=1006123422.5, pvalue=0.021413207467594772)"
      ]
     },
     "execution_count": 22,
     "metadata": {},
     "output_type": "execute_result"
    }
   ],
   "source": [
    "stats.mannwhitneyu(df[df.version == 'gate_30'].sum_gamerounds,\n",
    "             df[df.version == 'gate_40'].sum_gamerounds)"
   ]
  },
  {
   "cell_type": "markdown",
   "id": "a27b82d1",
   "metadata": {},
   "source": [
    "по тесту Манна-Уитни, мы видим что pvalue < alpha = 5% что говорит о том что стоит выбрать альтернативную гипотезу, используем метод bootstrap"
   ]
  },
  {
   "cell_type": "code",
   "execution_count": 36,
   "id": "6b0084ce",
   "metadata": {},
   "outputs": [],
   "source": [
    "array_a = df[df.version == 'gate_30'].sum_gamerounds.values\n",
    "array_b = df[df.version == 'gate_40'].sum_gamerounds.values"
   ]
  },
  {
   "cell_type": "code",
   "execution_count": 37,
   "id": "46dc83e7",
   "metadata": {},
   "outputs": [
    {
     "name": "stdout",
     "output_type": "stream",
     "text": [
      "-0.8356931306221758 1.552241946487699\n"
     ]
    }
   ],
   "source": [
    "b = bs.bootstrap_ab(array_a, array_b, stat_func=bs_stats.mean, compare_func=bs_compare.difference, \\\n",
    "                    alpha=0.05, num_iterations=10_000)\n",
    "print(b.lower_bound, b.upper_bound)"
   ]
  },
  {
   "cell_type": "markdown",
   "id": "5efd926c",
   "metadata": {},
   "source": [
    "0 входит в доверительный интервал что нам говорит о том что статистически значимсых различий нет, но он очень близок к одному из краев интервала, посмотрим на данные чуть-чуть иначе"
   ]
  },
  {
   "cell_type": "markdown",
   "id": "62321b00",
   "metadata": {},
   "source": [
    "#### разделим наши данные на 2 группы"
   ]
  },
  {
   "cell_type": "code",
   "execution_count": 23,
   "id": "9b66171a",
   "metadata": {},
   "outputs": [
    {
     "data": {
      "text/plain": [
       "(50, 100]     5386\n",
       "(30, 50]      4593\n",
       "(1, 3]        4467\n",
       "(10, 15]      3945\n",
       "(5, 8]        3726\n",
       "(100, 200]    3672\n",
       "(3, 5]        3348\n",
       "(15, 20]      3057\n",
       "(0, 1]        2789\n",
       "(20, 25]      2230\n",
       "(8, 10]       1929\n",
       "(25, 30]      1672\n",
       "Name: sum_gamerounds, dtype: int64"
      ]
     },
     "execution_count": 23,
     "metadata": {},
     "output_type": "execute_result"
    }
   ],
   "source": [
    "bins = [0, 1, 3, 5, 8, 10, 15, 20, 25, 30, 50, 100, 200]\n",
    "\n",
    "A = df[df.version == 'gate_30']\n",
    "pd.cut(A['sum_gamerounds'], bins=bins).value_counts()\n",
    "B = df[df.version == 'gate_40']\n",
    "pd.cut(B['sum_gamerounds'], bins=bins).value_counts()"
   ]
  },
  {
   "cell_type": "code",
   "execution_count": 24,
   "id": "3a8cc810",
   "metadata": {},
   "outputs": [
    {
     "data": {
      "image/png": "[encoded data removed]",
      "text/plain": [
       "<Figure size 432x288 with 1 Axes>"
      ]
     },
     "metadata": {
      "needs_background": "light"
     },
     "output_type": "display_data"
    }
   ],
   "source": [
    "A.sum_gamerounds.hist(bins = bins, alpha =0.5, label='группа A')\n",
    "B.sum_gamerounds.hist(bins = bins, alpha =0.5, label='группа B')\n",
    "plt.title('Количество игроков в группах')\n",
    "plt.xlabel('количество проведенных игр')\n",
    "plt.ylabel('Число пользователей')\n",
    "plt.legend();"
   ]
  },
  {
   "cell_type": "markdown",
   "id": "badb2807",
   "metadata": {},
   "source": [
    "здесь мы видим что разница между подгруппами практически миниммальна"
   ]
  },
  {
   "cell_type": "code",
   "execution_count": 41,
   "id": "da184ee5",
   "metadata": {},
   "outputs": [
    {
     "data": {
      "text/plain": [
       "40.83553206262459"
      ]
     },
     "execution_count": 41,
     "metadata": {},
     "output_type": "execute_result"
    }
   ],
   "source": [
    "A.query('retention_1 != 0').sum_gamerounds.sum() / len(A)"
   ]
  },
  {
   "cell_type": "code",
   "execution_count": 43,
   "id": "ee659832",
   "metadata": {},
   "outputs": [
    {
     "data": {
      "text/plain": [
       "28.911013057988217"
      ]
     },
     "execution_count": 43,
     "metadata": {},
     "output_type": "execute_result"
    }
   ],
   "source": [
    "A.query('retention_7 != 0').sum_gamerounds.sum() / len(A)"
   ]
  },
  {
   "cell_type": "code",
   "execution_count": 42,
   "id": "5ff83b79",
   "metadata": {},
   "outputs": [
    {
     "data": {
      "text/plain": [
       "40.414846777034164"
      ]
     },
     "execution_count": 42,
     "metadata": {},
     "output_type": "execute_result"
    }
   ],
   "source": [
    "B.query('retention_1 != 0').sum_gamerounds.sum() / len(B)"
   ]
  },
  {
   "cell_type": "code",
   "execution_count": 44,
   "id": "8cf7a9f6",
   "metadata": {},
   "outputs": [
    {
     "data": {
      "text/plain": [
       "28.388759246213457"
      ]
     },
     "execution_count": 44,
     "metadata": {},
     "output_type": "execute_result"
    }
   ],
   "source": [
    "B.query('retention_7 != 0').sum_gamerounds.sum() / len(B)"
   ]
  },
  {
   "cell_type": "code",
   "execution_count": 27,
   "id": "3e4c8f96",
   "metadata": {},
   "outputs": [
    {
     "data": {
      "text/plain": [
       "0.4476000627141801"
      ]
     },
     "execution_count": 27,
     "metadata": {},
     "output_type": "execute_result"
    }
   ],
   "source": [
    "A.retention_1.sum() / len(A)"
   ]
  },
  {
   "cell_type": "code",
   "execution_count": 28,
   "id": "20b13b96",
   "metadata": {},
   "outputs": [
    {
     "data": {
      "text/plain": [
       "0.4415287072912997"
      ]
     },
     "execution_count": 28,
     "metadata": {},
     "output_type": "execute_result"
    }
   ],
   "source": [
    "B.retention_1.sum() / len(B)"
   ]
  },
  {
   "cell_type": "code",
   "execution_count": 29,
   "id": "ca7af713",
   "metadata": {},
   "outputs": [
    {
     "data": {
      "text/plain": [
       "0.18924003852442495"
      ]
     },
     "execution_count": 29,
     "metadata": {},
     "output_type": "execute_result"
    }
   ],
   "source": [
    "A.retention_7.sum() / len(A)"
   ]
  },
  {
   "cell_type": "code",
   "execution_count": 30,
   "id": "484b617e",
   "metadata": {},
   "outputs": [
    {
     "data": {
      "text/plain": [
       "0.18087354702359987"
      ]
     },
     "execution_count": 30,
     "metadata": {},
     "output_type": "execute_result"
    }
   ],
   "source": [
    "B.retention_7.sum() / len(B)"
   ]
  },
  {
   "cell_type": "markdown",
   "id": "4c37623a",
   "metadata": {},
   "source": [
    "здесь мы видим что игроки из группы gate_30, задерживаются в игре дольше и проводят немного больше боев чем другая группа. Явных различий между ними мы не наблюдаем но из неявных первая группа все же смотрится лучше"
   ]
  }
 ],
 "metadata": {
  "kernelspec": {
   "display_name": "Python 3",
   "language": "python",
   "name": "python3"
  },
  "language_info": {
   "codemirror_mode": {
    "name": "ipython",
    "version": 3
   },
   "file_extension": ".py",
   "mimetype": "text/x-python",
   "name": "python",
   "nbconvert_exporter": "python",
   "pygments_lexer": "ipython3",
   "version": "3.8.8"
  }
 },
 "nbformat": 4,
 "nbformat_minor": 5
}
