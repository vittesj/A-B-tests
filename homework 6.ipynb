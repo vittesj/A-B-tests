{
 "cells": [
  {
   "cell_type": "code",
   "execution_count": 1,
   "id": "325c0835",
   "metadata": {},
   "outputs": [],
   "source": [
    "import numpy as np\n",
    "import math\n",
    "import scipy.stats as stats"
   ]
  },
  {
   "cell_type": "markdown",
   "id": "519082d0",
   "metadata": {},
   "source": [
    "### Продакт на главной mail.ru решил протестировать в рекомендательной ленте контента вместо карточек со статьями видеоплеер с короткими видео. Нынешний таймспент на юзера в день в среднем равен 25 минут, а стандартная ошибка (SD) равна 156. Мы предполагаем, что в новой версии таймспент на юзера в день изменится на 10%. Средний трафик 20000 человек в день. Посчитайте сколько дней необходимо держать эксперимент при alpha = 5% и beta = 20% ."
   ]
  },
  {
   "cell_type": "code",
   "execution_count": 2,
   "id": "ef99fc5f",
   "metadata": {},
   "outputs": [],
   "source": [
    "n = 20000  \n",
    "sd = 156  \n",
    "alpha = 0.05  \n",
    "beta = 0.2  \n",
    "prop_diff = 0.1"
   ]
  },
  {
   "cell_type": "code",
   "execution_count": 3,
   "id": "78332f4d",
   "metadata": {},
   "outputs": [],
   "source": [
    "se = sd / np.sqrt(n)\n",
    "m = se * stats.norm.ppf(1 - alpha/2) \n",
    "delta = prop_diff * n  "
   ]
  },
  {
   "cell_type": "code",
   "execution_count": 4,
   "id": "c177fa94",
   "metadata": {},
   "outputs": [],
   "source": [
    "z_alpha = stats.norm.ppf(1 - alpha)  \n",
    "z_beta = stats.norm.ppf(1 - beta) "
   ]
  },
  {
   "cell_type": "code",
   "execution_count": 5,
   "id": "a6aebfd8",
   "metadata": {},
   "outputs": [
    {
     "data": {
      "text/plain": [
       "1.0"
      ]
     },
     "execution_count": 5,
     "metadata": {},
     "output_type": "execute_result"
    }
   ],
   "source": [
    "n_1 = (z_alpha*m + z_beta*sd/delta)**2\n",
    "n_2 = (z_alpha*m - z_beta*sd/delta)**2\n",
    "n_round = np.ceil(max(n_1, n_2))\n",
    "days = np.ceil(n_round/n)  \n",
    "days"
   ]
  },
  {
   "cell_type": "markdown",
   "id": "8ff555a7",
   "metadata": {},
   "source": [
    "### Наша продуктовая команда в ecommerce магазине планирует запустить тест, направленный на ускорение загрузки сайта. Одна из основных метрик bounce rate в GA = 40%. Мы предполагаем, что при оптимизации сайта она изменится минимум на 20%.Средний трафик 4000 человек в день. Посчитайте сколько нам нужно дней держать эксперимент при alpha = 5% и beta = 20%"
   ]
  },
  {
   "cell_type": "code",
   "execution_count": 6,
   "id": "a613c36d",
   "metadata": {},
   "outputs": [],
   "source": [
    "def sample_size(mean1, mean2, alpha, beta, power, baseline):\n",
    "    std1 = math.sqrt(baseline * (1 - baseline))\n",
    "    z_alpha = stats.norm.ppf(1 - alpha / 2)\n",
    "    z_beta = stats.norm.ppf(power)\n",
    "    std2 = std1 * math.sqrt((baseline - mean2) ** 2 / (mean1 - mean2) ** 2)\n",
    "    return ((std1 * z_alpha + std2 * z_beta) / (mean1 - mean2)) ** 2"
   ]
  },
  {
   "cell_type": "code",
   "execution_count": 7,
   "id": "000861d1",
   "metadata": {},
   "outputs": [
    {
     "data": {
      "text/plain": [
       "5"
      ]
     },
     "execution_count": 7,
     "metadata": {},
     "output_type": "execute_result"
    }
   ],
   "source": [
    "round(sample_size(mean1=0.4, mean2=-0.2, alpha=0.05, beta=0.2, power=0.8, \n",
    "                  baseline=0.4))"
   ]
  },
  {
   "cell_type": "code",
   "execution_count": null,
   "id": "31e032f7",
   "metadata": {},
   "outputs": [],
   "source": []
  }
 ],
 "metadata": {
  "kernelspec": {
   "display_name": "Python 3",
   "language": "python",
   "name": "python3"
  },
  "language_info": {
   "codemirror_mode": {
    "name": "ipython",
    "version": 3
   },
   "file_extension": ".py",
   "mimetype": "text/x-python",
   "name": "python",
   "nbconvert_exporter": "python",
   "pygments_lexer": "ipython3",
   "version": "3.8.8"
  }
 },
 "nbformat": 4,
 "nbformat_minor": 5
}
