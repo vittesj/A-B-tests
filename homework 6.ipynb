{
 "cells": [
  {
   "cell_type": "code",
   "execution_count": 11,
   "id": "325c0835",
   "metadata": {},
   "outputs": [],
   "source": [
    "import numpy as np\n",
    "import math\n",
    "import scipy.stats as stats\n",
    "from statsmodels.stats.power import zt_ind_solve_power\n",
    "from statsmodels.stats.proportion import proportion_effectsize as es"
   ]
  },
  {
   "cell_type": "markdown",
   "id": "519082d0",
   "metadata": {},
   "source": [
    "### Продакт на главной mail.ru решил протестировать в рекомендательной ленте контента вместо карточек со статьями видеоплеер с короткими видео. Нынешний таймспент на юзера в день в среднем равен 25 минут, а стандартная ошибка (SD) равна 156. Мы предполагаем, что в новой версии таймспент на юзера в день изменится на 10%. Средний трафик 20000 человек в день. Посчитайте сколько дней необходимо держать эксперимент при alpha = 5% и beta = 20% ."
   ]
  },
  {
   "cell_type": "code",
   "execution_count": 12,
   "id": "ef99fc5f",
   "metadata": {},
   "outputs": [],
   "source": [
    "n = 20000  \n",
    "m = 25\n",
    "sd = 156  \n",
    "alpha = 0.05  \n",
    "beta = 0.2  \n",
    "mde = m * 0.1"
   ]
  },
  {
   "cell_type": "markdown",
   "id": "e1133a39",
   "metadata": {},
   "source": [
    "начнем с неправильного условия, sd это не стандартная ошибка а стандартное отклонение"
   ]
  },
  {
   "cell_type": "code",
   "execution_count": 13,
   "id": "caeb9224",
   "metadata": {},
   "outputs": [
    {
     "data": {
      "text/plain": [
       "61123.307908838215"
      ]
     },
     "execution_count": 13,
     "metadata": {},
     "output_type": "execute_result"
    }
   ],
   "source": [
    "D = sd ** 2\n",
    "N = 2 * D * (stats.norm.ppf(1 - alpha / 2) + stats.norm.ppf(1 - beta)) ** 2 / mde ** 2\n",
    "N "
   ]
  },
  {
   "cell_type": "code",
   "execution_count": 14,
   "id": "87d3446c",
   "metadata": {},
   "outputs": [
    {
     "data": {
      "text/plain": [
       "7.0"
      ]
     },
     "execution_count": 14,
     "metadata": {},
     "output_type": "execute_result"
    }
   ],
   "source": [
    "n_day = np.ceil(np.ceil(N) * 2 / n)\n",
    "n_day"
   ]
  },
  {
   "cell_type": "markdown",
   "id": "064947a1",
   "metadata": {},
   "source": [
    "Ответ, нам потребуется 7 дней для теста"
   ]
  },
  {
   "cell_type": "markdown",
   "id": "8ff555a7",
   "metadata": {},
   "source": [
    "### Наша продуктовая команда в ecommerce магазине планирует запустить тест, направленный на ускорение загрузки сайта. Одна из основных метрик bounce rate в GA = 40%. Мы предполагаем, что при оптимизации сайта она изменится минимум на 20%.Средний трафик 4000 человек в день. Посчитайте сколько нам нужно дней держать эксперимент при alpha = 5% и beta = 20%"
   ]
  },
  {
   "cell_type": "code",
   "execution_count": 15,
   "id": "9fba7eb9",
   "metadata": {},
   "outputs": [],
   "source": [
    "n = 4000\n",
    "alpha = 0.05  \n",
    "beta = 0.2  "
   ]
  },
  {
   "cell_type": "code",
   "execution_count": 24,
   "id": "acc9b3e2",
   "metadata": {},
   "outputs": [
    {
     "data": {
      "text/plain": [
       "564.0"
      ]
     },
     "execution_count": 24,
     "metadata": {},
     "output_type": "execute_result"
    }
   ],
   "source": [
    "N_size = np.ceil(zt_ind_solve_power(effect_size=es(prop1=0.40, prop2=0.32), alpha=alpha, power=1-beta, alternative=\"two-sided\"))\n",
    "N_size"
   ]
  },
  {
   "cell_type": "code",
   "execution_count": 26,
   "id": "51b1c08c",
   "metadata": {},
   "outputs": [
    {
     "data": {
      "text/plain": [
       "1.0"
      ]
     },
     "execution_count": 26,
     "metadata": {},
     "output_type": "execute_result"
    }
   ],
   "source": [
    "np.ceil(N_size * 2 / n)"
   ]
  },
  {
   "cell_type": "markdown",
   "id": "a331c843",
   "metadata": {},
   "source": [
    "Ответ, нам потребуется 1 день для теста"
   ]
  },
  {
   "cell_type": "code",
   "execution_count": null,
   "id": "766032c3",
   "metadata": {},
   "outputs": [],
   "source": []
  }
 ],
 "metadata": {
  "kernelspec": {
   "display_name": "Python 3",
   "language": "python",
   "name": "python3"
  },
  "language_info": {
   "codemirror_mode": {
    "name": "ipython",
    "version": 3
   },
   "file_extension": ".py",
   "mimetype": "text/x-python",
   "name": "python",
   "nbconvert_exporter": "python",
   "pygments_lexer": "ipython3",
   "version": "3.8.8"
  }
 },
 "nbformat": 4,
 "nbformat_minor": 5
}
