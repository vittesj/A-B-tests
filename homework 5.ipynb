{
 "cells": [
  {
   "cell_type": "markdown",
   "id": "3ed6b18f",
   "metadata": {},
   "source": [
    "### 1)Вы провели эксперимент c упрощением формы заказа в магазине Утконос и получили результаты по метрике конверсий в покупку. Выберите метод оценки и оцените есть ли стат.значимые различия между конверсиями в двух группах при alpha = 5%. Дайте краткие рекомендации команде .Результаты: 1)Число юзеров в группах , которые заходили на сайт в период эксперимента: n1 = 15550 и n2 = 15550 . 2) Число юзеров в группах , которые совершили хотя бы одну покупку за период эксперимента: n1 = 164 и n2 = 228 3) Конверсии : conv1 = 1.05% conv2 = 1.47% ."
   ]
  },
  {
   "cell_type": "code",
   "execution_count": 7,
   "id": "f1d9b746",
   "metadata": {},
   "outputs": [
    {
     "ename": "NameError",
     "evalue": "name 'options' is not defined",
     "output_type": "error",
     "traceback": [
      "\u001b[1;31m---------------------------------------------------------------------------\u001b[0m",
      "\u001b[1;31mNameError\u001b[0m                                 Traceback (most recent call last)",
      "\u001b[1;32m<ipython-input-7-8c50b0bab691>\u001b[0m in \u001b[0;36m<module>\u001b[1;34m\u001b[0m\n\u001b[1;32m----> 1\u001b[1;33m \u001b[0moptions\u001b[0m\u001b[1;33m.\u001b[0m\u001b[0mdisplay\u001b[0m\u001b[1;33m.\u001b[0m\u001b[0mfloat_format\u001b[0m \u001b[1;33m=\u001b[0m \u001b[1;34m'{:20,.2f}'\u001b[0m\u001b[1;33m.\u001b[0m\u001b[0mformat\u001b[0m\u001b[1;33m\u001b[0m\u001b[1;33m\u001b[0m\u001b[0m\n\u001b[0m",
      "\u001b[1;31mNameError\u001b[0m: name 'options' is not defined"
     ]
    }
   ],
   "source": []
  },
  {
   "cell_type": "code",
   "execution_count": 6,
   "id": "d11b033b",
   "metadata": {},
   "outputs": [],
   "source": [
    "alpha = 0.05\n",
    "conv1 = 1.05 / 100\n",
    "conv2 = 1.47 / 100\n",
    "N = 15550\n",
    "n1 = 164\n",
    "n2 = 228"
   ]
  },
  {
   "cell_type": "markdown",
   "id": "7b5db71b",
   "metadata": {},
   "source": [
    "применим формулу доверительного интервала"
   ]
  },
  {
   "cell_type": "code",
   "execution_count": 11,
   "id": "c6a0587d",
   "metadata": {},
   "outputs": [
    {
     "data": {
      "text/plain": [
       "(0.001721, 0.006679)"
      ]
     },
     "execution_count": 11,
     "metadata": {},
     "output_type": "execute_result"
    }
   ],
   "source": [
    "(round(conv2 - conv1 - 1.96 * (conv1 * (1 - conv1) / N + conv2 * (1 - conv2) / N) ** 0.5, 6), \n",
    " round(conv2 - conv1 + 1.96 * (conv1 * (1 - conv1) / N + conv2 * (1 - conv2) / N) ** 0.5, 6))"
   ]
  },
  {
   "cell_type": "markdown",
   "id": "c4e67fea",
   "metadata": {},
   "source": [
    "0 не входит в интервал значит статистически значимые различия есть, значит принимаем результаты второго теста"
   ]
  },
  {
   "cell_type": "markdown",
   "id": "384d2cfe",
   "metadata": {},
   "source": [
    "### 2) Сравниваем метрику конверсия в покупку. Размер выборки - 10000 элементов в каждой группе . Какой статистический критерий тут лучше всего подойдёт и почему ?"
   ]
  },
  {
   "cell_type": "code",
   "execution_count": null,
   "id": "510d331b",
   "metadata": {},
   "outputs": [],
   "source": [
    "так как у нас всего 2 выборки, предполагается что распределение нормальное и объемы больше 30, то берем Z- критерий"
   ]
  }
 ],
 "metadata": {
  "kernelspec": {
   "display_name": "Python 3",
   "language": "python",
   "name": "python3"
  },
  "language_info": {
   "codemirror_mode": {
    "name": "ipython",
    "version": 3
   },
   "file_extension": ".py",
   "mimetype": "text/x-python",
   "name": "python",
   "nbconvert_exporter": "python",
   "pygments_lexer": "ipython3",
   "version": "3.8.8"
  }
 },
 "nbformat": 4,
 "nbformat_minor": 5
}
